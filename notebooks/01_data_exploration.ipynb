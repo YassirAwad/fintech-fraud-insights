{
 "cells": [
  {
   "cell_type": "markdown",
   "id": "dce69bef",
   "metadata": {},
   "source": [
    "I initially want to see how much of the data contains fraudulant transactions"
   ]
  },
  {
   "cell_type": "code",
   "execution_count": 102,
   "id": "4cb90d50",
   "metadata": {},
   "outputs": [
    {
     "name": "stdout",
     "output_type": "stream",
     "text": [
      "Number of non-fraudulent transactions = 284315\n",
      "Number of fraudulent transactions = 492\n",
      "fraudulent_percentage = 0.17%\n"
     ]
    },
    {
     "data": {
      "image/png": "[encoded data removed]",
      "text/plain": [
       "<Figure size 600x400 with 1 Axes>"
      ]
     },
     "metadata": {},
     "output_type": "display_data"
    }
   ],
   "source": [
    "import pandas as pd\n",
    "import matplotlib.pyplot as plt\n",
    "df = pd.read_csv('../data/creditcard.csv/creditcard.csv')\n",
    "\n",
    "count_class_0 = (df['Class'] == 0).sum()\n",
    "count_class_1 = (df['Class'] == 1).sum()\n",
    "fraudulent_percentage = round((count_class_1/count_class_0 ) * 100, 2)\n",
    "\n",
    "print(f'Number of non-fraudulent transactions = {count_class_0}')\n",
    "print(f'Number of fraudulent transactions = {count_class_1}')\n",
    "print(f'fraudulent_percentage = {fraudulent_percentage}%')\n",
    "\n",
    "\n",
    "\n",
    "#Now lets visualize this\n",
    "# Data for the bar chart\n",
    "labels = ['Non-Fraudulent', 'Fraudulent']\n",
    "counts = [count_class_0, count_class_1]\n",
    "\n",
    "# Plot\n",
    "plt.figure(figsize=(6, 4))\n",
    "plt.bar(labels, counts, color=['green', 'red'], width=0.2, align='center')\n",
    "plt.title('Transaction Class Distribution')\n",
    "plt.ylabel('Number of Transactions')\n",
    "plt.xlabel('Transaction Type')\n",
    "plt.show()"
   ]
  },
  {
   "cell_type": "markdown",
   "id": "7a84ae85",
   "metadata": {},
   "source": [
    "The model only has 0.17% of the data to feed into fraudulent patterns\n",
    "    - The model sees very few fraud examples, so it doesn’t learn the patterns well.\n",
    "    - It becomes biased toward the majority class.\n",
    "    - If we don’t fix this, it may achieve 99.8% accuracy but fail to catch real fraud.\n"
   ]
  },
  {
   "cell_type": "markdown",
   "id": "a6d2c65b",
   "metadata": {},
   "source": [
    "Data Health Check\n",
    "Are there any missing values?\n",
    "Are there any duplicate rows?\n",
    "What are the min, max, mean of the Amount column?"
   ]
  },
  {
   "cell_type": "code",
   "execution_count": 103,
   "id": "9f0438d5",
   "metadata": {},
   "outputs": [
    {
     "name": "stdout",
     "output_type": "stream",
     "text": [
      "Number of rows with missing values: 0\n",
      "Number of rows with duplicate values: 1081\n",
      "1081\n",
      "     Time        V1        V2        V3        V4        V5        V6  \\\n",
      "33   26.0 -0.529912  0.873892  1.347247  0.145457  0.414209  0.100223   \n",
      "35   26.0 -0.535388  0.865268  1.351076  0.147575  0.433680  0.086983   \n",
      "113  74.0  1.038370  0.127486  0.184456  1.109950  0.441699  0.945283   \n",
      "\n",
      "           V7        V8        V9  ...       V21       V22       V23  \\\n",
      "33   0.711206  0.176066 -0.286717  ...  0.046949  0.208105 -0.185548   \n",
      "35   0.693039  0.179742 -0.285642  ...  0.049526  0.206537 -0.187108   \n",
      "113 -0.036715  0.350995  0.118950  ...  0.102520  0.605089  0.023092   \n",
      "\n",
      "          V24       V25       V26       V27       V28  Amount  Class  \n",
      "33   0.001031  0.098816 -0.552904 -0.073288  0.023307    6.14      0  \n",
      "35   0.000753  0.098117 -0.553471 -0.078306  0.025427    1.77      0  \n",
      "113 -0.626463  0.479120 -0.166937  0.081247  0.001192    1.18      0  \n",
      "\n",
      "[3 rows x 31 columns]\n",
      "count    284807.000000\n",
      "mean         88.349619\n",
      "std         250.120109\n",
      "min           0.000000\n",
      "25%           5.600000\n",
      "50%          22.000000\n",
      "75%          77.165000\n",
      "max       25691.160000\n",
      "Name: Amount, dtype: float64\n"
     ]
    }
   ],
   "source": [
    "# Check if any values are missing in each row\n",
    "has_missing = df.isnull().any(axis=1)\n",
    "duplicates = df.duplicated()\n",
    "amount_details = df['Amount'].describe()\n",
    "# Count of missing rows\n",
    "print(f\"Number of rows with missing values: {has_missing.sum()}\")\n",
    "\n",
    "print(f\"Number of rows with duplicate values: {duplicates.sum()}\")\n",
    "\n",
    "print(df[duplicates].shape[0])\n",
    "print(df[duplicates].head(3)) #some of the duplicate values\n",
    "print(amount_details)\n"
   ]
  },
  {
   "cell_type": "code",
   "execution_count": 104,
   "id": "5fd4f68c",
   "metadata": {},
   "outputs": [
    {
     "data": {
      "text/plain": [
       "np.int64(0)"
      ]
     },
     "execution_count": 104,
     "metadata": {},
     "output_type": "execute_result"
    }
   ],
   "source": [
    "#dropping duplicate rows (likely error on inputtng this data)\n",
    "df.drop_duplicates(inplace=True)\n",
    "df.duplicated().sum()\n"
   ]
  },
  {
   "cell_type": "code",
   "execution_count": 105,
   "id": "229488e1",
   "metadata": {},
   "outputs": [
    {
     "data": {
      "text/plain": [
       "(283726, 31)"
      ]
     },
     "execution_count": 105,
     "metadata": {},
     "output_type": "execute_result"
    }
   ],
   "source": [
    "df.shape"
   ]
  },
  {
   "cell_type": "markdown",
   "id": "3d79091e",
   "metadata": {},
   "source": [
    "We notice the min amount is 0 and max is 25691+ which makes the discrepency way to big\n",
    "We’re going to standardize the Amount column using Z-score scaling so that:\n",
    "The values will have a mean of 0 and a standard deviation of 1\n",
    "This helps prevent Amount from overpowering other features in models like logistic regression."
   ]
  },
  {
   "cell_type": "code",
   "execution_count": 106,
   "id": "a28caf95",
   "metadata": {},
   "outputs": [
    {
     "data": {
      "text/plain": [
       "count    2.837260e+05\n",
       "mean    -5.409347e-17\n",
       "std      1.000002e+00\n",
       "min     -3.533268e-01\n",
       "25%     -3.309625e-01\n",
       "50%     -2.654671e-01\n",
       "75%     -4.378088e-02\n",
       "max      1.022476e+02\n",
       "Name: Amount_scaled, dtype: float64"
      ]
     },
     "execution_count": 106,
     "metadata": {},
     "output_type": "execute_result"
    }
   ],
   "source": [
    "from sklearn.preprocessing import StandardScaler\n",
    "\n",
    "scaler = StandardScaler()\n",
    "\n",
    "df['Amount_scaled'] = scaler.fit_transform(df[['Amount']])\n",
    "df['Amount_scaled'].describe()\n"
   ]
  },
  {
   "cell_type": "code",
   "execution_count": 107,
   "id": "fd06d33e",
   "metadata": {},
   "outputs": [
    {
     "data": {
      "text/plain": [
       "Index(['Time', 'V1', 'V2', 'V3', 'V4', 'V5', 'V6', 'V7', 'V8', 'V9', 'V10',\n",
       "       'V11', 'V12', 'V13', 'V14', 'V15', 'V16', 'V17', 'V18', 'V19', 'V20',\n",
       "       'V21', 'V22', 'V23', 'V24', 'V25', 'V26', 'V27', 'V28', 'Amount',\n",
       "       'Class', 'Amount_scaled'],\n",
       "      dtype='object')"
      ]
     },
     "execution_count": 107,
     "metadata": {},
     "output_type": "execute_result"
    }
   ],
   "source": [
    "#Now we want to drop the old Amount column that is not scaled\n",
    "#df.drop(columns=['Amount'], inplace=True) this line has already been run\n",
    "df.columns\n"
   ]
  },
  {
   "cell_type": "markdown",
   "id": "2f2afb86",
   "metadata": {},
   "source": [
    "Now We want to Address Class Imbalance"
   ]
  },
  {
   "cell_type": "markdown",
   "id": "892c1a08",
   "metadata": {},
   "source": [
    "Now we address the fact that:\n",
    "We have only 492 fraud cases out of ~283K rows.\n",
    "This imbalance can cause models to ignore the minority class completely."
   ]
  },
  {
   "cell_type": "code",
   "execution_count": null,
   "id": "b73b5035",
   "metadata": {},
   "outputs": [],
   "source": [
    "df.to_csv(\"../data/creditcard.csv/cleaned_creditcard.csv\", index=False)\n",
    "#saved cleaned data"
   ]
  },
  {
   "cell_type": "code",
   "execution_count": null,
   "id": "1d761ac1",
   "metadata": {},
   "outputs": [],
   "source": []
  }
 ],
 "metadata": {
  "kernelspec": {
   "display_name": "Python 3",
   "language": "python",
   "name": "python3"
  },
  "language_info": {
   "codemirror_mode": {
    "name": "ipython",
    "version": 3
   },
   "file_extension": ".py",
   "mimetype": "text/x-python",
   "name": "python",
   "nbconvert_exporter": "python",
   "pygments_lexer": "ipython3",
   "version": "3.13.0"
  }
 },
 "nbformat": 4,
 "nbformat_minor": 5
}
